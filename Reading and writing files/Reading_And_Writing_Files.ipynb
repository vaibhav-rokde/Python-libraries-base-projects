{
  "cells": [
    {
      "cell_type": "markdown",
      "metadata": {
        "id": "ioUWhHWw3q0B"
      },
      "source": [
        "## Reading and Writing Files Notebook"
      ]
    },
    {
      "cell_type": "markdown",
      "metadata": {
        "id": "EnueDHy43q0G"
      },
      "source": [
        "In this exercise, we will test your knowledge of reading and writing files by playing around with some text files. \n",
        "<br><br>\n",
        "Let's say we have a text file containing current visitors at a hotel.  We'll call it, *guests.txt*.  Run the following code to create the file.  The file will automatically populate with each initial guest's first name on its own line."
      ]
    },
    {
      "cell_type": "code",
      "execution_count": 22,
      "metadata": {
        "id": "BQ_BPBCc3q0I"
      },
      "outputs": [],
      "source": [
        "guests = open(\"guests.txt\", \"w\")\n",
        "initial_guests = [\"ram\", \"shyam\", \"radha\", \"sita\", \"ganesh\"]\n",
        "\n",
        "for i in initial_guests:\n",
        "    guests.write(i + \"\\n\")\n",
        "    \n",
        "guests.close()"
      ]
    },
    {
      "cell_type": "markdown",
      "metadata": {
        "id": "U0tFWZyS3q0K"
      },
      "source": [
        "No output is generated for the above code cell.  To check the contents of the newly created *guests.txt* file, run the following code."
      ]
    },
    {
      "cell_type": "code",
      "execution_count": 23,
      "metadata": {
        "colab": {
          "base_uri": "https://localhost:8080/"
        },
        "id": "6QXDHyvO3q0K",
        "outputId": "0727a5ed-b0dc-4fa0-aaa5-abff1f58c425"
      },
      "outputs": [
        {
          "output_type": "stream",
          "name": "stdout",
          "text": [
            "ram\n",
            "\n",
            "shyam\n",
            "\n",
            "radha\n",
            "\n",
            "sita\n",
            "\n",
            "ganesh\n",
            "\n"
          ]
        }
      ],
      "source": [
        "with open(\"guests.txt\") as guests:\n",
        "    for line in guests:\n",
        "        print(line)"
      ]
    },
    {
      "cell_type": "markdown",
      "metadata": {
        "id": "uOSPLF9f3q0L"
      },
      "source": [
        "The output shows that our *guests.txt* file is correctly populated with each initial guest's first name on its own line.  Cool!\n",
        "<br><br>\n",
        "Now suppose we want to update our file as guests check in and out.  Fill in the missing code in the following cell to add guests to the *guests.txt* file as they check in."
      ]
    },
    {
      "cell_type": "code",
      "execution_count": 24,
      "metadata": {
        "id": "6YtNNy9K3q0M"
      },
      "outputs": [],
      "source": [
        "new_guests = [\"Sam\", \"tuka\", \"arjun\"]\n",
        "\n",
        "with open(\"guests.txt\", 'a+') as guests:\n",
        "    for i in new_guests:\n",
        "        guests.write(i + \"\\n\")\n",
        "\n",
        "guests.close()"
      ]
    },
    {
      "cell_type": "markdown",
      "metadata": {
        "id": "H0crX2X83q0N"
      },
      "source": [
        "To check whether your code correctly added the new guests to the *guests.txt* file, run the following cell."
      ]
    },
    {
      "cell_type": "code",
      "execution_count": 25,
      "metadata": {
        "colab": {
          "base_uri": "https://localhost:8080/"
        },
        "id": "YDUARo0K3q0P",
        "outputId": "aaa8c896-1827-4039-80d6-2dd8a3443538"
      },
      "outputs": [
        {
          "output_type": "stream",
          "name": "stdout",
          "text": [
            "ram\n",
            "\n",
            "shyam\n",
            "\n",
            "radha\n",
            "\n",
            "sita\n",
            "\n",
            "ganesh\n",
            "\n",
            "Sam\n",
            "\n",
            "tuka\n",
            "\n",
            "arjun\n",
            "\n"
          ]
        }
      ],
      "source": [
        "with open(\"guests.txt\") as guests:\n",
        "    for line in guests:\n",
        "        print(line)"
      ]
    },
    {
      "cell_type": "markdown",
      "metadata": {
        "id": "FbftYkX23q0Q"
      },
      "source": [
        "The current names in the *guests.txt* file should be:  ram shyam radha sita ganesh Sam tuka arjun.\n",
        "<br><br>\n",
        "Was the *guests.txt* file correctly appended with the new guests? If not, go back and edit your code making sure to fill in the gaps appropriately so that the new guests are correctly added to the *guests.txt* file.  Once the new guests are successfully added, you have filled in the missing code correctly.  Great!\n",
        "<br><br>\n",
        "Now let's remove the guests that have checked out already.  There are several ways to do this, however, the method we will choose for this exercise is outlined as follows:\n",
        "1. Open the file in \"read\" mode.\n",
        "2. Iterate over each line in the file and put each guest's name into a Python list.\n",
        "3. Open the file once again in \"write\" mode.\n",
        "4. Add each guest's name in the Python list to the file one by one.\n",
        "\n",
        "<br>\n",
        "Ready? Fill in the missing code in the following cell to remove the guests that have checked out already."
      ]
    },
    {
      "cell_type": "code",
      "execution_count": 26,
      "metadata": {
        "id": "pAMmwit_3q0R"
      },
      "outputs": [],
      "source": [
        "checked_out=[\"Andrea\", \"Manuel\", \"Khalid\"]\n",
        "temp_list=[]\n",
        "\n",
        "with open(\"guests.txt\", 'r') as guests:\n",
        "    for g in guests:\n",
        "        temp_list.append(g.strip())\n",
        "\n",
        "with open(\"guests.txt\", 'w+') as guests:\n",
        "    for name in temp_list:\n",
        "        if name not in checked_out:\n",
        "            guests.write(name + \"\\n\")"
      ]
    },
    {
      "cell_type": "markdown",
      "metadata": {
        "id": "Nu3m0-LK3q0S"
      },
      "source": [
        "To check whether your code correctly removed the checked out guests from the *guests.txt* file, run the following cell."
      ]
    },
    {
      "cell_type": "code",
      "execution_count": 27,
      "metadata": {
        "colab": {
          "base_uri": "https://localhost:8080/"
        },
        "id": "BsxWuWlh3q0T",
        "outputId": "d11081a7-35c1-4d7a-be4f-5c540ac91087"
      },
      "outputs": [
        {
          "output_type": "stream",
          "name": "stdout",
          "text": [
            "ram\n",
            "\n",
            "shyam\n",
            "\n",
            "radha\n",
            "\n",
            "sita\n",
            "\n",
            "ganesh\n",
            "\n",
            "Sam\n",
            "\n",
            "tuka\n",
            "\n",
            "arjun\n",
            "\n"
          ]
        }
      ],
      "source": [
        "with open(\"guests.txt\") as guests:\n",
        "    for line in guests:\n",
        "        print(line)"
      ]
    },
    {
      "cell_type": "markdown",
      "metadata": {
        "id": "MD3djUoX3q0U"
      },
      "source": [
        "The current names in the *guests.txt* file should be:  ram shyam radha sita ganesh Sam tuka arjun.\n",
        "<br><br>\n",
        "Were the names of the checked out guests correctly removed from the *guests.txt* file? If not, go back and edit your code making sure to fill in the gaps appropriately so that the checked out guests are correctly removed from the *guests.txt* file. Once the checked out guests are successfully removed, you have filled in the missing code correctly. Awesome!\n",
        "<br><br>\n",
        "Now let's check whether Bob and Andrea are still checked in.  How could we do this? We'll just read through each line in the file to see if their name is in there.  Run the following code to check whether Bob and Andrea are still checked in."
      ]
    },
    {
      "cell_type": "code",
      "execution_count": 28,
      "metadata": {
        "colab": {
          "base_uri": "https://localhost:8080/"
        },
        "id": "Gwe7H8YZ3q0V",
        "outputId": "6bc3c064-6e20-4fc8-e227-889ccfdebf27"
      },
      "outputs": [
        {
          "output_type": "stream",
          "name": "stdout",
          "text": [
            "Ram is not checked in\n",
            "sita is checked in\n"
          ]
        }
      ],
      "source": [
        "guests_to_check = ['Ram', 'sita']\n",
        "checked_in = []\n",
        "\n",
        "with open(\"guests.txt\",\"r\") as guests:\n",
        "    for g in guests:\n",
        "        checked_in.append(g.strip())\n",
        "    for check in guests_to_check:\n",
        "        if check in checked_in:\n",
        "            print(\"{} is checked in\".format(check))\n",
        "        else:\n",
        "            print(\"{} is not checked in\".format(check))"
      ]
    },
    {
      "cell_type": "markdown",
      "metadata": {
        "id": "lHqr-p6o3q0W"
      },
      "source": [
        "We can see that sita is checked in while ram is not.  Nice work! You've learned the basics of reading and writing files in Python!"
      ]
    },
    {
      "cell_type": "code",
      "source": [],
      "metadata": {
        "id": "dYCl__fw9t0n"
      },
      "execution_count": null,
      "outputs": []
    }
  ],
  "metadata": {
    "kernelspec": {
      "display_name": "Python 3",
      "language": "python",
      "name": "python3"
    },
    "language_info": {
      "codemirror_mode": {
        "name": "ipython",
        "version": 3
      },
      "file_extension": ".py",
      "mimetype": "text/x-python",
      "name": "python",
      "nbconvert_exporter": "python",
      "pygments_lexer": "ipython3",
      "version": "3.6.7"
    },
    "colab": {
      "provenance": []
    }
  },
  "nbformat": 4,
  "nbformat_minor": 0
}