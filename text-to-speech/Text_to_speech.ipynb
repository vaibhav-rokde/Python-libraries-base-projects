{
  "nbformat": 4,
  "nbformat_minor": 0,
  "metadata": {
    "colab": {
      "provenance": []
    },
    "kernelspec": {
      "name": "python3",
      "display_name": "Python 3"
    },
    "language_info": {
      "name": "python"
    }
  },
  "cells": [
    {
      "cell_type": "code",
      "execution_count": null,
      "metadata": {
        "colab": {
          "base_uri": "https://localhost:8080/"
        },
        "id": "LVJVE_AzLSZ_",
        "outputId": "4fce7e07-b55c-450c-ba07-ca34adeefa8f"
      },
      "outputs": [
        {
          "output_type": "stream",
          "name": "stdout",
          "text": [
            "Collecting gTTS\n",
            "  Downloading gTTS-2.3.2-py3-none-any.whl (28 kB)\n",
            "Requirement already satisfied: requests<3,>=2.27 in /usr/local/lib/python3.10/dist-packages (from gTTS) (2.27.1)\n",
            "Requirement already satisfied: click<8.2,>=7.1 in /usr/local/lib/python3.10/dist-packages (from gTTS) (8.1.6)\n",
            "Requirement already satisfied: urllib3<1.27,>=1.21.1 in /usr/local/lib/python3.10/dist-packages (from requests<3,>=2.27->gTTS) (1.26.16)\n",
            "Requirement already satisfied: certifi>=2017.4.17 in /usr/local/lib/python3.10/dist-packages (from requests<3,>=2.27->gTTS) (2023.7.22)\n",
            "Requirement already satisfied: charset-normalizer~=2.0.0 in /usr/local/lib/python3.10/dist-packages (from requests<3,>=2.27->gTTS) (2.0.12)\n",
            "Requirement already satisfied: idna<4,>=2.5 in /usr/local/lib/python3.10/dist-packages (from requests<3,>=2.27->gTTS) (3.4)\n",
            "Installing collected packages: gTTS\n",
            "Successfully installed gTTS-2.3.2\n"
          ]
        }
      ],
      "source": [
        "! pip install gTTS\n"
      ]
    },
    {
      "cell_type": "code",
      "source": [
        "from gtts import gTTS\n"
      ],
      "metadata": {
        "id": "ch9nG3iKLZvu"
      },
      "execution_count": null,
      "outputs": []
    },
    {
      "cell_type": "code",
      "source": [
        "text = \"Hellllo, vaibhaav sir good morrning?\"\n",
        "tts = gTTS(text=text, lang='en')"
      ],
      "metadata": {
        "id": "GZDZFJ6WLjDA"
      },
      "execution_count": null,
      "outputs": []
    },
    {
      "cell_type": "code",
      "source": [
        "tts.save(\"output.mp3\")\n"
      ],
      "metadata": {
        "id": "MZ9gbnNhLmgl"
      },
      "execution_count": null,
      "outputs": []
    },
    {
      "cell_type": "code",
      "source": [
        "import os\n",
        "os.system(\"output.mp3\")"
      ],
      "metadata": {
        "colab": {
          "base_uri": "https://localhost:8080/"
        },
        "id": "hJKK7PqvLppO",
        "outputId": "3d3cc4d0-3d25-4f5b-f6cf-98dc3a38dc6d"
      },
      "execution_count": null,
      "outputs": [
        {
          "output_type": "execute_result",
          "data": {
            "text/plain": [
              "32512"
            ]
          },
          "metadata": {},
          "execution_count": 33
        }
      ]
    },
    {
      "cell_type": "code",
      "source": [
        "import IPython.display as ipd\n",
        "ipd.Audio('output.mp3')"
      ],
      "metadata": {
        "colab": {
          "base_uri": "https://localhost:8080/",
          "height": 75
        },
        "id": "YikU0c4FLu3J",
        "outputId": "69da3d6c-6bb4-4e07-d967-2699b4fe284e"
      },
      "execution_count": null,
      "outputs": [
        {
          "output_type": "execute_result",
          "data": {
            "text/plain": [
              "<IPython.lib.display.Audio object>"
            ],
            "text/html": [
              "\n",
              "                <audio  controls=\"controls\" >\n",
              "                    <source src=\"data:audio/mpeg;base64,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\" type=\"audio/mpeg\" />\n",
              "                    Your browser does not support the audio element.\n",
              "                </audio>\n",
              "              "
            ]
          },
          "metadata": {},
          "execution_count": 34
        }
      ]
    },
    {
      "cell_type": "code",
      "source": [],
      "metadata": {
        "id": "3Duv3jGnL_Gd"
      },
      "execution_count": null,
      "outputs": []
    }
  ]
}